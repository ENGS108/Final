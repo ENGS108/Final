{
  "cells": [
    {
      "cell_type": "markdown",
      "metadata": {
        "id": "nMt8-HzlsVTc"
      },
      "source": [
        "\n",
        "## Final Draft\n"
      ]
    },
    {
      "cell_type": "markdown",
      "metadata": {
        "id": "HerlBKVCrqBP"
      },
      "source": [
        "####Importing necessary libraries and printing summary of available datasets\n",
        "(2 min of installation, then it requires permission to continue)"
      ]
    },
    {
      "cell_type": "code",
      "execution_count": null,
      "metadata": {
        "colab": {
          "base_uri": "https://localhost:8080/",
          "height": 1000
        },
        "id": "w-ko096x7oGG",
        "outputId": "e1e1b7af-a542-4ab4-d48b-9d4f30f9f49e"
      },
      "outputs": [],
      "source": [
        "!pip install pymatgen       #General materials science package\n",
        "!pip install matminer       #Machine learning materials science package\n",
        "# of pandas that was causing some issues\n",
        "#Display available datasets from matminer\n",
        "from matminer.datasets import get_available_datasets\n",
        "get_available_datasets()"
      ]
    },
    {
      "cell_type": "markdown",
      "metadata": {
        "id": "8zEjHEa-rvAE"
      },
      "source": [
        "Exploring and loading datasets"
      ]
    },
    {
      "cell_type": "code",
      "execution_count": null,
      "metadata": {
        "colab": {
          "base_uri": "https://localhost:8080/"
        },
        "id": "SI1-XTHWiZBM",
        "outputId": "e25eb082-12b0-44cf-867a-8635d1cbfec3"
      },
      "outputs": [
        {
          "name": "stdout",
          "output_type": "stream",
          "text": [
            "            nsites  space_group  ...  poly_electronic   poly_total\n",
            "count  1056.000000  1056.000000  ...      1056.000000  1056.000000\n",
            "mean      7.530303   142.970644  ...         7.248049    14.777898\n",
            "std       3.388443    67.264591  ...        13.054947    19.435303\n",
            "min       2.000000     1.000000  ...         1.630000     2.080000\n",
            "25%       5.000000    82.000000  ...         3.130000     7.557500\n",
            "50%       8.000000   163.000000  ...         4.790000    10.540000\n",
            "75%       9.000000   194.000000  ...         7.440000    15.482500\n",
            "max      20.000000   229.000000  ...       256.840000   277.780000\n",
            "\n",
            "[8 rows x 7 columns]\n",
            "Dataset: dielectric_constant\n",
            "Description: 1,056 structures with dielectric properties, calculated with DFPT-PBE.\n",
            "Columns:\n",
            "\tband_gap: Measure of the conductivity of a material\n",
            "\tcif: optional: Description string for structure\n",
            "\te_electronic: electronic contribution to dielectric tensor\n",
            "\te_total: Total dielectric tensor incorporating both electronic and ionic contributions\n",
            "\tformula: Chemical formula of the material\n",
            "\tmaterial_id: Materials Project ID of the material\n",
            "\tmeta: optional, metadata descriptor of the datapoint\n",
            "\tn: Refractive Index\n",
            "\tnsites: The \\# of atoms in the unit cell of the calculation.\n",
            "\tpoly_electronic: the average of the eigenvalues of the electronic contribution to the dielectric tensor\n",
            "\tpoly_total: the average of the eigenvalues of the total (electronic and ionic) contributions to the dielectric tensor\n",
            "\tposcar: optional: Poscar metadata\n",
            "\tpot_ferroelectric: Whether the material is potentially ferroelectric\n",
            "\tspace_group: Integer specifying the crystallographic structure of the material\n",
            "\tstructure: pandas Series defining the structure of the material\n",
            "\tvolume: Volume of the unit cell in cubic angstroms, For supercell calculations, this quantity refers to the volume of the full supercell. \n",
            "Num Entries: 1056\n",
            "Reference: Petousis, I., Mrdjenovich, D., Ballouz, E., Liu, M., Winston, D.,\n",
            "Chen, W., Graf, T., Schladt, T. D., Persson, K. A. & Prinz, F. B.\n",
            "High-throughput screening of inorganic compounds for the discovery\n",
            "of novel dielectric and optical materials. Sci. Data 4, 160134 (2017).\n",
            "Bibtex citations: ['@Article{Petousis2017,\\nauthor={Petousis, Ioannis and Mrdjenovich, David and Ballouz, Eric\\nand Liu, Miao and Winston, Donald and Chen, Wei and Graf, Tanja\\nand Schladt, Thomas D. and Persson, Kristin A. and Prinz, Fritz B.},\\ntitle={High-throughput screening of inorganic compounds for the\\ndiscovery of novel dielectric and optical materials},\\njournal={Scientific Data},\\nyear={2017},\\nmonth={Jan},\\nday={31},\\npublisher={The Author(s)},\\nvolume={4},\\npages={160134},\\nnote={Data Descriptor},\\nurl={http://dx.doi.org/10.1038/sdata.2016.134}\\n}']\n",
            "File type: json.gz\n",
            "Figshare URL: https://ndownloader.figshare.com/files/13213475\n",
            "SHA256 Hash Digest: 8eb24812148732786cd7c657eccfc6b5ee66533429c2cfbcc4f0059c0295e8b6\n",
            "\n",
            "\n"
          ]
        }
      ],
      "source": [
        "from matminer.datasets import load_dataset\n",
        "from matminer.datasets import get_all_dataset_info\n",
        "\n",
        "df_DEC = load_dataset(\"dielectric_constant\")\n",
        "print(df_DEC.describe())\n",
        "dec_info = get_all_dataset_info(\"dielectric_constant\")\n",
        "print(dec_info)\n"
      ]
    },
    {
      "cell_type": "markdown",
      "metadata": {
        "id": "uW6_5pH0uGDe"
      },
      "source": [
        "Expirementing with the featurization tools in MatMiner "
      ]
    },
    {
      "cell_type": "code",
      "execution_count": null,
      "metadata": {
        "colab": {
          "base_uri": "https://localhost:8080/",
          "height": 827,
          "referenced_widgets": [
            "1a3760427c5c45e1bdbd7a686c854cce",
            "1c20593b5db74941a9047291868de35a",
            "2d3d11bdc9004e3ea29b6e743d41ccf4",
            "3ff1b5ab68e54039a186832e5d017d96",
            "acccf66a8d9f48768e14998928305e4e",
            "e1afd56010204f4b90d5d6143ef32205",
            "63258204473e43fdb41e65ae0e8c2fbe",
            "947d7398347b4997adb433500f4d098b",
            "bcfc935597ac440d8ab9983cbf7638be",
            "b6f12863050749cca26a41e5278fc18e",
            "7d6f24a1e3b04a8596c9be2853874857",
            "d67dd98bae5c481884518ddae2db2b63",
            "5ece659d1af444ddaa87e1c5c35092b9",
            "96dc6bbce0c94616ad0eb9855aa39bdb",
            "bc493280eae342078a03884256dcf691",
            "e55c16f678074606914b5fb3a6c578d1",
            "cff422039e18434986b27f5829e75b0f",
            "8ae81740a4ec4151a8a88c61f4ced78b",
            "cfe60bfc21b74306bee5c3e3b6ed2182",
            "15d1e648820642c4b09b3f77c566dbdd",
            "010854817fc34348a172f94a85f2ed53",
            "55992cb2c2c24817b6845fb24302814c",
            "5c13ad0dff594bb0826a6ea7f67b3842",
            "95e80433aa7949dc8cec59f5e4b9d210",
            "a8ccebf11eaa482e8888930afd333778",
            "e8f0e3d8e0e3499eb2f5098071d08ffa",
            "105eebd8ba1b40caa88fdf31c1584d8d",
            "a9839577cb184f2584eb960ff98982ea",
            "eed1541469bf4f828506e4d598bf05a4",
            "7b51a2ec8b5a4ac19e53cbd867d6cca2",
            "e2f7fcf84606459fbbe8027a4bde8795",
            "67b7975c403a4683af2aa59eb1ac88ab",
            "9580790b3b764c4ca19e25639154074e"
          ]
        },
        "id": "z4hGwGmOcpXH",
        "outputId": "f44a60dd-33f5-4608-9faa-4d68e51333a5"
      },
      "outputs": [
        {
          "data": {
            "application/vnd.jupyter.widget-view+json": {
              "model_id": "1a3760427c5c45e1bdbd7a686c854cce",
              "version_major": 2,
              "version_minor": 0
            },
            "text/plain": [
              "StrToComposition:   0%|          | 0/1056 [00:00<?, ?it/s]"
            ]
          },
          "metadata": {},
          "output_type": "display_data"
        },
        {
          "name": "stdout",
          "output_type": "stream",
          "text": [
            "  material_id  ... composition\n",
            "0      mp-441  ...    (Rb, Te)\n",
            "1    mp-22881  ...    (Cd, Cl)\n",
            "2    mp-28013  ...     (Mn, I)\n",
            "3   mp-567290  ...     (La, N)\n",
            "4   mp-560902  ...     (Mn, F)\n",
            "\n",
            "[5 rows x 17 columns]\n"
          ]
        },
        {
          "data": {
            "application/vnd.jupyter.widget-view+json": {
              "model_id": "d67dd98bae5c481884518ddae2db2b63",
              "version_major": 2,
              "version_minor": 0
            },
            "text/plain": [
              "ElementFraction:   0%|          | 0/1056 [00:00<?, ?it/s]"
            ]
          },
          "metadata": {},
          "output_type": "display_data"
        },
        {
          "name": "stdout",
          "output_type": "stream",
          "text": [
            "  material_id formula  nsites  space_group      volume  ... Es  Fm Md No  Lr\n",
            "0      mp-441   Rb2Te       3          225  159.501208  ...  0   0  0  0   0\n",
            "1    mp-22881   CdCl2       3          166   84.298097  ...  0   0  0  0   0\n",
            "2    mp-28013    MnI2       3          164  108.335875  ...  0   0  0  0   0\n",
            "3   mp-567290     LaN       4          186   88.162562  ...  0   0  0  0   0\n",
            "4   mp-560902    MnF2       6          136   82.826401  ...  0   0  0  0   0\n",
            "\n",
            "[5 rows x 120 columns]\n"
          ]
        },
        {
          "data": {
            "application/vnd.jupyter.widget-view+json": {
              "model_id": "5c13ad0dff594bb0826a6ea7f67b3842",
              "version_major": 2,
              "version_minor": 0
            },
            "text/plain": [
              "DensityFeatures:   0%|          | 0/1056 [00:00<?, ?it/s]"
            ]
          },
          "metadata": {},
          "output_type": "display_data"
        },
        {
          "name": "stdout",
          "output_type": "stream",
          "text": [
            "  material_id formula  nsites  ...   density        vpa packing fraction\n",
            "0      mp-441   Rb2Te       3  ...  3.108002  53.167069         0.753707\n",
            "1    mp-22881   CdCl2       3  ...  3.611055  28.099366         0.284421\n",
            "2    mp-28013    MnI2       3  ...  4.732379  36.111958         0.318289\n",
            "3   mp-567290     LaN       4  ...  5.760192  22.040641         0.730689\n",
            "4   mp-560902    MnF2       6  ...  3.726395  13.804400         0.302832\n",
            "\n",
            "[5 rows x 123 columns]\n",
            "\n",
            "Cleaning:  100%  ~~~~~~~~~~~~~~~~~~~~~~~~~~~~~~~~~~~~~~~~~~~~~~~~~\n",
            "  material_id  poly_total  nsites  ...   density        vpa  packing fraction\n",
            "0      mp-441        6.23       3  ...  3.108002  53.167069          0.753707\n",
            "1    mp-22881        6.73       3  ...  3.611055  28.099366          0.284421\n",
            "2    mp-28013       10.64       3  ...  4.732379  36.111958          0.318289\n",
            "3   mp-567290       17.99       4  ...  5.760192  22.040641          0.730689\n",
            "4   mp-560902        7.12       6  ...  3.726395  13.804400          0.302832\n",
            "\n",
            "[5 rows x 74 columns]\n",
            "\n",
            "--- Number of Columns ---\n",
            "Original:  16\n",
            "Featurized:  123\n",
            "Cleaned:  74\n",
            "--------------------------\n",
            "Number of Entries:  1056\n",
            "__________________________\n"
          ]
        }
      ],
      "source": [
        "from pymatgen.core import Composition\n",
        "from matminer.featurizers.composition import ElementFraction\n",
        "from matminer.featurizers.conversions import StrToComposition\n",
        "from matminer.featurizers.structure import DensityFeatures\n",
        "import pandas as pd\n",
        "import numpy as np\n",
        "\n",
        "#Convert the strings from the 'formulas' column to pymatgen Composition objects\n",
        "stc = StrToComposition()\n",
        "featured_df = stc.featurize_dataframe(df_DEC, \"formula\")\n",
        "print(featured_df.head())\n",
        "\n",
        "#Featurize the Composition objects\n",
        "ef = ElementFraction()\n",
        "featured_df = ef.featurize_dataframe(featured_df, \"composition\")\n",
        "print(featured_df.head())\n",
        "\n",
        "#Featurize the pymatgen Structure objects\n",
        "denf = DensityFeatures()\n",
        "featured_df = denf.featurize_dataframe(featured_df, \"structure\")\n",
        "print(featured_df.head())\n",
        "\n",
        "print(\"\\nCleaning:  100%  ~~~~~~~~~~~~~~~~~~~~~~~~~~~~~~~~~~~~~~~~~~~~~~~~~\")\n",
        "#Remove non-integer columns\n",
        "clean_df = featured_df.drop([\"formula\", \"composition\", \"structure\", \"cif\",\"poscar\",\"meta\",\"e_electronic\", \"e_total\", \"poly_electronic\"], axis=1)\n",
        "#Remove any columns with all 0 values (from the composition featurization)\n",
        "cleaner_df = clean_df.loc[:, (clean_df != 0).any(axis=0)]\n",
        "#Move Target value to index 1 (after id number)\n",
        "cols = cleaner_df.columns.tolist()\n",
        "cols.remove('poly_total')\n",
        "cols.insert(1, 'poly_total')\n",
        "final_df = cleaner_df[cols]\n",
        "print(final_df.head())\n",
        "\n",
        "print(\"\\n--- Number of Columns ---\")\n",
        "print(\"Original: \", len(df_DEC.columns))\n",
        "print(\"Featurized: \", len(featured_df.columns))\n",
        "print(\"Cleaned: \", len(final_df.columns))\n",
        "print(\"--------------------------\")\n",
        "print(\"Number of Entries: \", len(final_df))\n",
        "print(\"__________________________\")\n"
      ]
    },
    {
      "cell_type": "markdown",
      "metadata": {
        "id": "otKGqsRduy8W"
      },
      "source": [
        "Save datafram as CSV (if desired)"
      ]
    },
    {
      "cell_type": "code",
      "execution_count": null,
      "metadata": {
        "id": "Hp29kXtvm9ZF"
      },
      "outputs": [],
      "source": [
        "final_df.to_csv(\"final0.csv\", index=False)"
      ]
    },
    {
      "cell_type": "markdown",
      "metadata": {
        "id": "aAKCydv5_9cN"
      },
      "source": [
        "####Linear Regression without the Split to Observe Feature Significance"
      ]
    },
    {
      "cell_type": "code",
      "execution_count": null,
      "metadata": {
        "colab": {
          "base_uri": "https://localhost:8080/"
        },
        "id": "OG0kuywp_9GU",
        "outputId": "30c9a7a5-5622-44ad-cb0b-61584f262386"
      },
      "outputs": [
        {
          "name": "stdout",
          "output_type": "stream",
          "text": [
            "['nsites', 'space_group', 'volume', 'band_gap', 'n', 'pot_ferroelectric', 'H', 'Li', 'Be', 'B', 'C', 'N', 'O', 'F', 'Na', 'Mg', 'Al', 'Si', 'P', 'S', 'Cl', 'K', 'Ca', 'Sc', 'Ti', 'V', 'Cr', 'Mn', 'Fe', 'Co', 'Ni', 'Cu', 'Zn', 'Ga', 'Ge', 'As', 'Se', 'Br', 'Rb', 'Sr', 'Y', 'Zr', 'Nb', 'Mo', 'Ru', 'Rh', 'Pd', 'Ag', 'Cd', 'In', 'Sn', 'Sb', 'Te', 'I', 'Cs', 'Ba', 'La', 'Hf', 'Ta', 'W', 'Re', 'Os', 'Ir', 'Pt', 'Au', 'Hg', 'Tl', 'Pb', 'Bi', 'density', 'vpa', 'packing fraction']\n"
          ]
        }
      ],
      "source": [
        "#import pandas as pd\n",
        "#final_df = pd.read_csv(\"/content/drive/Shareddrives/ENGS108 Final Project/final0.csv\" )\n",
        "\n",
        "X = final_df.iloc[:,2:]\n",
        "y = final_df[\"poly_total\"]\n",
        "\n",
        "feature_list = final_df.iloc[:,2:].columns\n",
        "feature_list = feature_list.to_list()\n",
        "print(feature_list)"
      ]
    },
    {
      "cell_type": "code",
      "execution_count": null,
      "metadata": {
        "colab": {
          "base_uri": "https://localhost:8080/",
          "height": 419
        },
        "id": "PQwVv-lvATpN",
        "outputId": "914bcebb-5f6a-4537-ef10-d45c5131ef26"
      },
      "outputs": [
        {
          "data": {
            "text/html": [
              "<div>\n",
              "<style scoped>\n",
              "    .dataframe tbody tr th:only-of-type {\n",
              "        vertical-align: middle;\n",
              "    }\n",
              "\n",
              "    .dataframe tbody tr th {\n",
              "        vertical-align: top;\n",
              "    }\n",
              "\n",
              "    .dataframe thead th {\n",
              "        text-align: right;\n",
              "    }\n",
              "</style>\n",
              "<table border=\"1\" class=\"dataframe\">\n",
              "  <thead>\n",
              "    <tr style=\"text-align: right;\">\n",
              "      <th></th>\n",
              "      <th>Coefficients</th>\n",
              "    </tr>\n",
              "  </thead>\n",
              "  <tbody>\n",
              "    <tr>\n",
              "      <th>nsites</th>\n",
              "      <td>-0.028407</td>\n",
              "    </tr>\n",
              "    <tr>\n",
              "      <th>space_group</th>\n",
              "      <td>0.002291</td>\n",
              "    </tr>\n",
              "    <tr>\n",
              "      <th>volume</th>\n",
              "      <td>0.008170</td>\n",
              "    </tr>\n",
              "    <tr>\n",
              "      <th>band_gap</th>\n",
              "      <td>0.531409</td>\n",
              "    </tr>\n",
              "    <tr>\n",
              "      <th>n</th>\n",
              "      <td>16.041024</td>\n",
              "    </tr>\n",
              "    <tr>\n",
              "      <th>...</th>\n",
              "      <td>...</td>\n",
              "    </tr>\n",
              "    <tr>\n",
              "      <th>Pb</th>\n",
              "      <td>26.239685</td>\n",
              "    </tr>\n",
              "    <tr>\n",
              "      <th>Bi</th>\n",
              "      <td>35.951671</td>\n",
              "    </tr>\n",
              "    <tr>\n",
              "      <th>density</th>\n",
              "      <td>1.196058</td>\n",
              "    </tr>\n",
              "    <tr>\n",
              "      <th>vpa</th>\n",
              "      <td>-0.030749</td>\n",
              "    </tr>\n",
              "    <tr>\n",
              "      <th>packing fraction</th>\n",
              "      <td>4.159720</td>\n",
              "    </tr>\n",
              "  </tbody>\n",
              "</table>\n",
              "<p>72 rows × 1 columns</p>\n",
              "</div>"
            ],
            "text/plain": [
              "                  Coefficients\n",
              "nsites               -0.028407\n",
              "space_group           0.002291\n",
              "volume                0.008170\n",
              "band_gap              0.531409\n",
              "n                    16.041024\n",
              "...                        ...\n",
              "Pb                   26.239685\n",
              "Bi                   35.951671\n",
              "density               1.196058\n",
              "vpa                  -0.030749\n",
              "packing fraction      4.159720\n",
              "\n",
              "[72 rows x 1 columns]"
            ]
          },
          "execution_count": 10,
          "metadata": {},
          "output_type": "execute_result"
        }
      ],
      "source": [
        "# Importing the Sklearn LinerRegression module\n",
        "from sklearn.linear_model import LinearRegression\n",
        "\n",
        "# Fitting a liner regression to our data\n",
        "reg = LinearRegression().fit(X, y)\n",
        "\n",
        "# Forming a data frame from the coefficients\n",
        "coefs = pd.DataFrame(\n",
        "    reg.coef_,\n",
        "    columns=[\"Coefficients\"],\n",
        "    index=feature_list,\n",
        ")\n",
        "\n",
        "coefs"
      ]
    },
    {
      "cell_type": "code",
      "execution_count": null,
      "metadata": {
        "colab": {
          "base_uri": "https://localhost:8080/",
          "height": 419
        },
        "id": "TorbYUZaA6dD",
        "outputId": "bab7a68e-9840-48cc-ad2a-21595fab34dc"
      },
      "outputs": [
        {
          "data": {
            "text/html": [
              "<div>\n",
              "<style scoped>\n",
              "    .dataframe tbody tr th:only-of-type {\n",
              "        vertical-align: middle;\n",
              "    }\n",
              "\n",
              "    .dataframe tbody tr th {\n",
              "        vertical-align: top;\n",
              "    }\n",
              "\n",
              "    .dataframe thead th {\n",
              "        text-align: right;\n",
              "    }\n",
              "</style>\n",
              "<table border=\"1\" class=\"dataframe\">\n",
              "  <thead>\n",
              "    <tr style=\"text-align: right;\">\n",
              "      <th></th>\n",
              "      <th>Coefficients</th>\n",
              "    </tr>\n",
              "  </thead>\n",
              "  <tbody>\n",
              "    <tr>\n",
              "      <th>Rh</th>\n",
              "      <td>61.189066</td>\n",
              "    </tr>\n",
              "    <tr>\n",
              "      <th>Zr</th>\n",
              "      <td>58.252436</td>\n",
              "    </tr>\n",
              "    <tr>\n",
              "      <th>Pt</th>\n",
              "      <td>56.632733</td>\n",
              "    </tr>\n",
              "    <tr>\n",
              "      <th>Tl</th>\n",
              "      <td>53.995642</td>\n",
              "    </tr>\n",
              "    <tr>\n",
              "      <th>Os</th>\n",
              "      <td>43.843995</td>\n",
              "    </tr>\n",
              "    <tr>\n",
              "      <th>...</th>\n",
              "      <td>...</td>\n",
              "    </tr>\n",
              "    <tr>\n",
              "      <th>V</th>\n",
              "      <td>0.065534</td>\n",
              "    </tr>\n",
              "    <tr>\n",
              "      <th>vpa</th>\n",
              "      <td>0.030749</td>\n",
              "    </tr>\n",
              "    <tr>\n",
              "      <th>nsites</th>\n",
              "      <td>0.028407</td>\n",
              "    </tr>\n",
              "    <tr>\n",
              "      <th>volume</th>\n",
              "      <td>0.008170</td>\n",
              "    </tr>\n",
              "    <tr>\n",
              "      <th>space_group</th>\n",
              "      <td>0.002291</td>\n",
              "    </tr>\n",
              "  </tbody>\n",
              "</table>\n",
              "<p>72 rows × 1 columns</p>\n",
              "</div>"
            ],
            "text/plain": [
              "             Coefficients\n",
              "Rh              61.189066\n",
              "Zr              58.252436\n",
              "Pt              56.632733\n",
              "Tl              53.995642\n",
              "Os              43.843995\n",
              "...                   ...\n",
              "V                0.065534\n",
              "vpa              0.030749\n",
              "nsites           0.028407\n",
              "volume           0.008170\n",
              "space_group      0.002291\n",
              "\n",
              "[72 rows x 1 columns]"
            ]
          },
          "execution_count": 11,
          "metadata": {},
          "output_type": "execute_result"
        }
      ],
      "source": [
        "# Taking the absolute value of coefficients to sort them later\n",
        "absolute_coefs = coefs.abs()\n",
        "\n",
        "# Sorting the coefficients \n",
        "sorted_coefs = absolute_coefs.sort_values(by=\"Coefficients\",ascending=False)\n",
        "sorted_coefs"
      ]
    },
    {
      "cell_type": "code",
      "execution_count": null,
      "metadata": {
        "colab": {
          "base_uri": "https://localhost:8080/",
          "height": 1000
        },
        "id": "b6_LtxdQBDWb",
        "outputId": "3757aa81-ae98-4524-bbf3-b92c9a0678e9"
      },
      "outputs": [
        {
          "data": {
            "image/png": "[encoded data removed]",
            "text/plain": [
              "<Figure size 648x2520 with 1 Axes>"
            ]
          },
          "metadata": {
            "needs_background": "light"
          },
          "output_type": "display_data"
        }
      ],
      "source": [
        "import matplotlib.pyplot as plt\n",
        "\n",
        "sorted_coefs.plot(kind=\"barh\", figsize=(9, 35))\n",
        "plt.title(\"Absolute Value of Coeefficients in Linear Regression to Observe Feature Significance\")\n",
        "plt.axvline(x=0, color=\".5\")\n",
        "plt.subplots_adjust(left=0.3)\n"
      ]
    },
    {
      "cell_type": "markdown",
      "metadata": {
        "id": "ngWN7ebkBK5L"
      },
      "source": [
        "Features with the smallest impact are: V, vpa, nsites, volume, space_group.\n",
        "\n",
        "We will remove these faetures to improve the models."
      ]
    },
    {
      "cell_type": "code",
      "execution_count": null,
      "metadata": {
        "colab": {
          "base_uri": "https://localhost:8080/"
        },
        "id": "ZM94qLfvqr7U",
        "outputId": "e890f658-0737-4fca-d95d-b8d74657d44a"
      },
      "outputs": [
        {
          "name": "stdout",
          "output_type": "stream",
          "text": [
            "['band_gap', 'n', 'pot_ferroelectric', 'H', 'Li', 'Be', 'B', 'C', 'N', 'O', 'F', 'Na', 'Mg', 'Al', 'Si', 'P', 'S', 'Cl', 'K', 'Ca', 'Sc', 'Ti', 'Cr', 'Mn', 'Fe', 'Co', 'Ni', 'Cu', 'Zn', 'Ga', 'Ge', 'As', 'Se', 'Br', 'Rb', 'Sr', 'Y', 'Zr', 'Nb', 'Mo', 'Ru', 'Rh', 'Pd', 'Ag', 'Cd', 'In', 'Sn', 'Sb', 'Te', 'I', 'Cs', 'Ba', 'La', 'Hf', 'Ta', 'W', 'Re', 'Os', 'Ir', 'Pt', 'Au', 'Hg', 'Tl', 'Pb', 'Bi', 'density', 'packing fraction']\n"
          ]
        }
      ],
      "source": [
        "#drop ID and unimportant features\n",
        "df = final_df.drop(columns=['material_id', 'V', 'vpa', 'nsites', 'volume', 'space_group'])\n",
        "#Cast non-numeric data as integer\n",
        "df[\"pot_ferroelectric\"] = df[\"pot_ferroelectric\"].astype(int)\n",
        "for i in ['V', 'vpa', 'nsites', 'volume', 'space_group']:\n",
        "  feature_list.remove(i)\n",
        "print(feature_list)"
      ]
    },
    {
      "cell_type": "markdown",
      "metadata": {
        "id": "ztttrXfyEEg9"
      },
      "source": [
        "####Train Test Split"
      ]
    },
    {
      "cell_type": "code",
      "execution_count": null,
      "metadata": {
        "id": "SU_0hD7PnVoP"
      },
      "outputs": [],
      "source": [
        "def train_test_split(dataframe, train_ratio, valid_ratio, test_ratio, tune_ratio=None):\n",
        "    df_length = len(dataframe)\n",
        "\n",
        "    # get train\n",
        "    len_train = int(df_length * train_ratio)\n",
        "\n",
        "    remaining1 = df_length - len_train\n",
        "\n",
        "    # get valid\n",
        "    len_valid = int(remaining1 * valid_ratio / (1 - train_ratio))\n",
        "\n",
        "    remaining2 = remaining1 - len_valid\n",
        "\n",
        "    # get test\n",
        "    len_test = int(remaining2 * test_ratio / (1 - train_ratio - valid_ratio))\n",
        "\n",
        "    if tune_ratio:\n",
        "        \n",
        "        # get tune\n",
        "        len_tune = remaining2 - len_test\n",
        "\n",
        "        # train test split\n",
        "        train = df.iloc[:len_train,:]\n",
        "        valid = df.iloc[len_train + 1:,:]\n",
        "\n",
        "        test = valid.iloc[len_valid + 1:,:]\n",
        "        valid = valid.iloc[:len_valid,:]\n",
        "        \n",
        "        tune = test.iloc[len_test + 1:,:]\n",
        "        test = test.iloc[:len_test,:]\n",
        "\n",
        "        return train, valid, test, tune\n",
        "    \n",
        "    else: \n",
        "\n",
        "        # train test split\n",
        "        train = df.iloc[:len_train,:]\n",
        "        valid = df.iloc[len_train + 1:,:]\n",
        "\n",
        "        test = valid.iloc[len_valid + 1:,:]\n",
        "        valid = valid.iloc[:len_valid,:]\n",
        "        \n",
        "        return train, valid, test"
      ]
    },
    {
      "cell_type": "code",
      "execution_count": null,
      "metadata": {
        "id": "jZBfi_4fsfya"
      },
      "outputs": [],
      "source": [
        "def preprocess(df, step=False):\n",
        "    if step:\n",
        "        step = int(1 / step)\n",
        "\n",
        "    # shuffle dataframe rows\n",
        "    df.sample(frac=1, random_state=1)\n",
        "    \n",
        "    # split data\n",
        "    train, valid, test, tune = train_test_split(df, 0.6, 0.2, 0.1, 0.1)\n",
        "\n",
        "    # remove label from x\n",
        "    x_train = train.drop(columns=['poly_total'])\n",
        "    x_train = x_train.to_numpy()\n",
        "\n",
        "    # get label\n",
        "    y_train0 = train['poly_total'].values\n",
        "\n",
        "    # turn to integers (0 decimal places)\n",
        "    if step:\n",
        "        # turn to integers (0 decimal places)\n",
        "        y_train0 = np.array([int(i * step) for i in y_train0])\n",
        "\n",
        "        # one hot encode\n",
        "        y_train = np.zeros((len(y_train0), 300 * step))\n",
        "        arg = np.arange(y_train0.size)\n",
        "        y_train[arg, y_train0] = 1\n",
        "    else:\n",
        "        y_train0 = np.array([int(i) for i in y_train0])\n",
        "\n",
        "        y_train = np.zeros((len(y_train0), 300))\n",
        "        arg = np.arange(y_train0.size)\n",
        "        y_train[arg, y_train0] = 1\n",
        "\n",
        "\n",
        "\n",
        "    # same as train\n",
        "    x_valid = valid.drop(columns=['poly_total'])\n",
        "    x_valid = x_valid.to_numpy()\n",
        "    y_valid0 = valid['poly_total'].values\n",
        "    if step:\n",
        "        y_valid0 = np.array([int(i * step) for i in y_valid0])\n",
        "        y_valid = np.zeros((len(y_valid0), 300 * step))\n",
        "        argv = np.arange(y_valid0.size)\n",
        "        y_valid[argv, y_valid0] = 1\n",
        "    else:\n",
        "        y_valid0 = np.array([int(i) for i in y_valid0])\n",
        "        y_valid = np.zeros((len(y_valid0), 300))\n",
        "        argv = np.arange(y_valid0.size)\n",
        "        y_valid[argv, y_valid0] = 1\n",
        "\n",
        "\n",
        "    # same as train\n",
        "    x_test = test.drop(columns=['poly_total'])\n",
        "    x_test = x_test.to_numpy()\n",
        "    y_test0 = test['poly_total'].values\n",
        "    if step:\n",
        "        y_test0 = np.array([int(i * step) for i in y_test0])\n",
        "        y_test = np.zeros((len(y_test0), 300 * step))\n",
        "        argvt = np.arange(y_test0.size)\n",
        "        y_test[argvt, y_test0] = 1\n",
        "    else:\n",
        "        y_test0 = np.array([int(i) for i in y_test0])\n",
        "        y_test = np.zeros((len(y_test0), 300))\n",
        "        argvt = np.arange(y_test0.size)\n",
        "        y_test[argvt, y_test0] = 1\n",
        "\n",
        "    # same as train\n",
        "    x_tune = tune.drop(columns=['poly_total'])\n",
        "    x_tune = x_tune.to_numpy()\n",
        "    y_tune0 = tune['poly_total'].values\n",
        "    if step:\n",
        "        y_tune0 = np.array([int(i * step) for i in y_tune0])\n",
        "        y_tune = np.zeros((len(y_tune0), 300 * step))\n",
        "        argvt = np.arange(y_tune0.size)\n",
        "        y_tune[argvt, y_tune0] = 1\n",
        "    else:\n",
        "        y_tune0 = np.array([int(i) for i in y_tune0])\n",
        "        y_tune = np.zeros((len(y_tune0), 300))\n",
        "        argvt = np.arange(y_tune0.size)\n",
        "        y_tune[argvt, y_tune0] = 1\n",
        "\n",
        "    return x_train, y_train, x_valid, y_valid, x_test, y_test, x_tune, y_tune"
      ]
    },
    {
      "cell_type": "code",
      "execution_count": null,
      "metadata": {
        "id": "eqemQW8usvys"
      },
      "outputs": [],
      "source": [
        "#Create 4 sets required for our final model\n",
        "#STEP = 0.01\n",
        "#x_train, y_train, x_valid, y_valid, x_test, y_test, x_tune, y_tune = preprocess(df, step=STEP)\n",
        "\n",
        "# shuffle dataframe rows\n",
        "df.sample(frac=1, random_state=1)\n",
        "train, valid, test, tune = train_test_split(df, 0.6, 0.2, 0.1, 0.1)\n",
        "\n",
        "#Combine sets for other initial models\n",
        "train = np.concatenate((train, valid, tune), axis=0)\n",
        "train = pd.DataFrame(train, columns = ['poly_total']+feature_list)\n",
        "\n",
        "train_features = train.copy()\n",
        "test_features = test.copy()\n",
        "\n",
        "train_labels = train_features.pop('poly_total')\n",
        "test_labels = test_features.pop('poly_total')"
      ]
    },
    {
      "cell_type": "markdown",
      "metadata": {
        "id": "xxrajsdRC_AK"
      },
      "source": [
        "####Decision Tree"
      ]
    },
    {
      "cell_type": "code",
      "execution_count": null,
      "metadata": {
        "colab": {
          "base_uri": "https://localhost:8080/",
          "height": 334
        },
        "id": "lWz4i8XMJAC1",
        "outputId": "d02f9ea3-490a-438f-f6ba-99c157f184d2"
      },
      "outputs": [
        {
          "name": "stdout",
          "output_type": "stream",
          "text": [
            "Score =  0.41261213467998115\n",
            "Mean squared error [MSE] =  194.46491320754717\n",
            "Root mean squared error [RMSE] =  13.945067701791453\n"
          ]
        },
        {
          "data": {
            "image/png": "[encoded data removed]",
            "text/plain": [
              "<Figure size 432x288 with 1 Axes>"
            ]
          },
          "metadata": {
            "needs_background": "light"
          },
          "output_type": "display_data"
        }
      ],
      "source": [
        "from sklearn.tree import DecisionTreeRegressor \n",
        "from sklearn import metrics\n",
        "#Create and train a Decision Tree Regressor object\n",
        "regressor = DecisionTreeRegressor(random_state = 0) \n",
        "regressor.fit(train_features, train_labels)\n",
        "test_pred = regressor.predict(test_features)\n",
        "\n",
        "#Report model accuacy metrics\n",
        "print(\"Score = \", regressor.score(test_features, test_labels))\n",
        "print(\"Mean squared error [MSE] = \", metrics.mean_squared_error(test_labels, test_pred))\n",
        "print(\"Root mean squared error [RMSE] = \", np.sqrt(metrics.mean_squared_error(test_labels, test_pred)))\n",
        "\n",
        "#Plot model error\n",
        "a = plt.axes(aspect='equal')\n",
        "plt.scatter(test_labels, test_pred)\n",
        "plt.xlabel('True Values [MSE]')\n",
        "plt.ylabel('Predictions [MSE]')\n",
        "lims = [0, 100]\n",
        "plt.xlim(lims)\n",
        "plt.ylim(lims)\n",
        "_ = plt.plot(lims, lims)\n"
      ]
    },
    {
      "cell_type": "code",
      "execution_count": null,
      "metadata": {
        "colab": {
          "base_uri": "https://localhost:8080/",
          "height": 37
        },
        "id": "-vfLfkhoc3pv",
        "outputId": "0394dc0f-250e-4549-ef52-18f2694cb07a"
      },
      "outputs": [
        {
          "data": {
            "application/vnd.google.colaboratory.intrinsic+json": {
              "type": "string"
            },
            "text/plain": [
              "'Decision Tree Regressor.pdf'"
            ]
          },
          "execution_count": 45,
          "metadata": {},
          "output_type": "execute_result"
        }
      ],
      "source": [
        "#Visualize the final Decision Tree Regressor in a PDF\n",
        "from sklearn.tree import export_graphviz \n",
        "import graphviz\n",
        "dot_data = export_graphviz(regressor, out_file=None, feature_names=df.columns.values[1:])#, filled=True, rounded=True, special_characters=True)\n",
        "graph = graphviz.Source(dot_data)\n",
        "graph.render('Decision Tree Regressor',view=True)"
      ]
    },
    {
      "cell_type": "markdown",
      "metadata": {
        "id": "BnVaZ03R6Hby"
      },
      "source": [
        "####DNNs"
      ]
    },
    {
      "cell_type": "code",
      "execution_count": null,
      "metadata": {
        "id": "KyP3CbT16OXl"
      },
      "outputs": [],
      "source": [
        "import numpy as np\n",
        "from tensorflow.keras.models import Sequential\n",
        "from tensorflow.keras.layers import Dense\n",
        "from tensorflow.keras.layers import Dropout\n",
        "import tensorflow as tf\n",
        "from tensorflow.keras.optimizers import Adam\n",
        "import pandas as pd\n",
        "from sklearn.metrics import mean_squared_error\n",
        "import random\n",
        "import matplotlib.pyplot as plt\n",
        "from matplotlib import style\n",
        "\n",
        "style.use(\"ggplot\")\n",
        "random.seed(444)"
      ]
    },
    {
      "cell_type": "code",
      "execution_count": null,
      "metadata": {
        "id": "9lusHhHK948q"
      },
      "outputs": [],
      "source": [
        "class model:\n",
        "    \n",
        "    # step is accuracy you want the model to go to\n",
        "    # eg: 1 for integers, 0.1 for 1 decimal place, and 0.01 for 2 decimal places\n",
        "    def __init__(self, number_of_features, dielectric_max_val, number_of_layers=False, filter=False, steps=False):\n",
        "        self.number_of_features = number_of_features\n",
        "        self.filter = filter\n",
        "        self.number_of_layers = number_of_layers\n",
        "        self.dielectric_max_val = dielectric_max_val\n",
        "        self.steps = steps\n",
        "        self.model = self.make_model()\n",
        "\n",
        "    def make_model(self):\n",
        "        model = Sequential()\n",
        "\n",
        "        # if step is defined\n",
        "        if self.steps:\n",
        "            # input layer\n",
        "            model.add(Dense(16, input_shape= (None, self.number_of_features), activation='relu'))\n",
        "\n",
        "            # hidden layer/s\n",
        "            if self.number_of_layers:\n",
        "                for n in range(1, self.number_of_layers):\n",
        "\n",
        "                    if self.filter:\n",
        "                        model.add(Dense(self.filter, activation='linear'))\n",
        "                    else:\n",
        "                        model.add(Dense(32, activation='linear'))\n",
        "            else:\n",
        "                if self.filter:\n",
        "                    model.add(Dense(self.filter, activation='linear'))\n",
        "                else:\n",
        "                    model.add(Dense(32, activation='linear'))\n",
        "\n",
        "            model.add(Dropout(0.3))\n",
        "\n",
        "            # output layer\n",
        "            model.add(Dense(int(self.dielectric_max_val * 1 / self.steps), activation='linear'))\n",
        "\n",
        "        else:\n",
        "            # input layer\n",
        "            model.add(Dense(16, input_shape=(None, self.number_of_features), activation='relu'))\n",
        "\n",
        "            # hidden layer/s\n",
        "            if self.number_of_layers:\n",
        "                for n in range(1, self.number_of_layers):\n",
        "\n",
        "                    if self.filter:\n",
        "                        model.add(Dense(self.filter, activation='linear'))\n",
        "                    else:\n",
        "                        model.add(Dense(32, activation='linear'))\n",
        "            else:\n",
        "                if self.filter:\n",
        "                    model.add(Dense(self.filter, activation='linear'))\n",
        "                else:\n",
        "                    model.add(Dense(32, activation='linear'))\n",
        "\n",
        "            model.add(Dropout(0.3))\n",
        "            \n",
        "            # output layer\n",
        "            model.add(Dense(self.dielectric_max_val, activation='linear'))\n",
        "\n",
        "        # compile\n",
        "        model.compile(loss='mse', optimizer=Adam(learning_rate=0.0001))\n",
        "\n",
        "        return model\n",
        "\n",
        "    def fit_model(self, x_train, y_train, x_valid, y_valid):\n",
        "\n",
        "        # suppress warnings\n",
        "        tf.compat.v1.logging.set_verbosity(tf.compat.v1.logging.ERROR)\n",
        "\n",
        "        # fit model\n",
        "        self.model.fit(x=x_train, y=y_train, validation_data=(x_valid, y_valid), epochs=20, verbose=0)\n",
        "\n",
        "    def predict(self, x_test, y_test=None, plot=False):\n",
        "\n",
        "        # predict the test set\n",
        "        y_predicted = self.model.predict(x_test)\n",
        "        \n",
        "        if plot:\n",
        "            mse = mean_squared_error(y_test, y_predicted)\n",
        "            rmse = np.sqrt(mse)\n",
        "            print(f\"Mean Squared Error = {mse}\")\n",
        "            print(f\"Root Mean Squared Error(rmse) = {rmse}. The predicted dielectric constant is the actual dielectric constant +/- rmse\")\n",
        "\n",
        "            plt.plot(range(len(y_predicted)), np.argmax(y_test, axis=1), lw=0.8, color=\"blue\", label=\"Actual Val\")\n",
        "            plt.plot(range(len(y_predicted)), np.argmax(y_predicted, axis=1), lw=0.8, color=\"red\", label=\"Predicted Val\")\n",
        "            plt.legend()\n",
        "            plt.show()\n",
        "        else:\n",
        "            return y_predicted\n",
        "    \n",
        "    def super_fit_predict(self, models_to_train, x_train, y_train, x_valid, y_valid, x_test, y_test=None, regression=False):\n",
        "\n",
        "        list_of_values = []\n",
        "        for m in range(models_to_train):\n",
        "\n",
        "            self.fit_model(x_train, y_train, x_valid, y_valid)\n",
        "\n",
        "            # predict \n",
        "            pred_values = self.predict(x_test)\n",
        "\n",
        "            list_of_values.append(pred_values)\n",
        "\n",
        "        final_value = np.mean(np.array(list_of_values), axis=0)\n",
        "\n",
        "        # this weighs the values to mimic a regression result\n",
        "        if regression:\n",
        "            final_value = np.asarray([np.sum(i * index) for index, i in enumerate(final_value)])   \n",
        "\n",
        "        if y_test is not None:\n",
        "\n",
        "            if regression:\n",
        "                y_test = np.argmax(y_test, axis=1)\n",
        "                mse = mean_squared_error(y_test/100, final_value/100)\n",
        "\n",
        "                rmse = np.sqrt(mse)\n",
        "                print(f\"Mean Squared Error = {mse}\")\n",
        "                print(f\"Root Mean Squared Error(rmse) = {rmse}. The predicted dielectric constant is the actual dielectric constant +/- rmse\")\n",
        "\n",
        "                plt.plot(range(len(final_value)), y_test/100, lw=0.8, color=\"blue\", label=\"Actual Val\")\n",
        "                plt.plot(range(len(final_value)), final_value, lw=0.8, color=\"red\", label=\"Actual Val\")\n",
        "            \n",
        "            else:\n",
        "                mse = mean_squared_error(y_test, final_value)\n",
        "\n",
        "                rmse = np.sqrt(mse)\n",
        "                print(f\"Mean Squared Error = {mse}\")\n",
        "                print(f\"Root Mean Squared Error(rmse) = {rmse}. The predicted dielectric constant is the actual dielectric constant +/- rmse\")\n",
        "\n",
        "                plt.plot(range(len(final_value)), np.argmax(y_test, axis=1)/100, lw=0.8, color=\"blue\", label=\"Actual Val\")\n",
        "                plt.plot(range(len(final_value)), np.asarray([np.argmax(i) for i in final_value])/100, lw=0.8, color=\"red\", label=\"Actual Val\")\n",
        "\n",
        "            plt.show()\n",
        "        \n",
        "        else:\n",
        "            final_value\n",
        "\n",
        "    def save_model(self, filepath=None):\n",
        "        if filepath:\n",
        "            self.model.save(filepath)\n",
        "        else:\n",
        "            self.model.save('')"
      ]
    },
    {
      "cell_type": "code",
      "execution_count": null,
      "metadata": {
        "id": "tjW9W2QpAJ4w"
      },
      "outputs": [],
      "source": [
        "def tune_model(x_train, y_train, x_valid, y_valid, x_tune, y_tune):\n",
        "    \n",
        "    HIDDEN_LAYERS_TO_TRY = 4\n",
        "    FILTERS_TO_TRY = 3\n",
        "\n",
        "    the_best_architectures = []\n",
        "    filters = [2**i for i in range(5, 5 + FILTERS_TO_TRY)]\n",
        "\n",
        "    for index, i in enumerate(x_tune):\n",
        "\n",
        "        # convert one-hot to actual value\n",
        "        value = np.argmax(y_tune[index])\n",
        "        \n",
        "        # difference between predicted value and actual value\n",
        "        diff = []\n",
        "        diff_dict = {}\n",
        "\n",
        "        # for every parameter that will me altered\n",
        "        for n in range(HIDDEN_LAYERS_TO_TRY):\n",
        "            \n",
        "            for filter in filters:\n",
        "                model_now = model(67, 300, steps=STEP, number_of_layers=n, filter=filter)\n",
        "                model_now.fit_model(x_train, y_train, x_valid, y_valid)\n",
        "\n",
        "                # has to be in this format for the model to take it\n",
        "                predict_this_x = np.asarray([i])\n",
        "\n",
        "                # predict \n",
        "                exe = model_now.predict(predict_this_x, value)\n",
        "\n",
        "                # get the value with the highest probability\n",
        "                exe = np.argmax(exe)\n",
        "\n",
        "                diff.append(exe - value)\n",
        "                diff_dict[(n, filter)] = exe - value\n",
        "        \n",
        "        # get the \"action\" that gives the lowest difference between the predicted value and the actual value.\n",
        "        the_best_architectures.append(np.argmin(diff))\n",
        "        \n",
        "    most_common_architecture = np.bincount(the_best_architectures).argmax()\n",
        "\n",
        "    # get the architecture of the most common architecture\n",
        "    diff_dict_keys = list(diff_dict.keys())\n",
        "    BSEST_n, BEST_filter = diff_dict_keys[most_common_architecture]\n",
        "\n",
        "    return BSEST_n, BEST_filter"
      ]
    },
    {
      "cell_type": "code",
      "execution_count": null,
      "metadata": {
        "id": "n-8SkA0Z9645"
      },
      "outputs": [],
      "source": [
        "STEP = 0.01\n",
        "x_train, y_train, x_valid, y_valid, x_test, y_test, x_tune, y_tune = preprocess(df, step=STEP)"
      ]
    },
    {
      "cell_type": "code",
      "execution_count": null,
      "metadata": {
        "colab": {
          "base_uri": "https://localhost:8080/",
          "height": 299
        },
        "id": "mm5cpBgv-mmq",
        "outputId": "733adef1-1b1c-4d5a-c461-f17da3152b4e"
      },
      "outputs": [
        {
          "name": "stdout",
          "output_type": "stream",
          "text": [
            "Mean Squared Error = 3.7480695019893336e-05\n",
            "Root Mean Squared Error(rmse) = 0.006122147909017989. The predicted dielectric constant is the actual dielectric constant +/- rmse\n"
          ]
        },
        {
          "data": {
            "image/png": "[encoded data removed]",
            "text/plain": [
              "<Figure size 432x288 with 1 Axes>"
            ]
          },
          "metadata": {},
          "output_type": "display_data"
        }
      ],
      "source": [
        "# Basic Classification Model\n",
        "\n",
        "classify = model(67, 300, steps=STEP)\n",
        "classify.fit_model(x_train, y_train, x_valid, y_valid)\n",
        "classify.predict(x_test, y_test, plot=True)"
      ]
    },
    {
      "cell_type": "code",
      "execution_count": null,
      "metadata": {
        "colab": {
          "base_uri": "https://localhost:8080/",
          "height": 299
        },
        "id": "6wPr0gBcAWhd",
        "outputId": "f359f20e-0075-4653-fed6-1cbe092c7067"
      },
      "outputs": [
        {
          "name": "stdout",
          "output_type": "stream",
          "text": [
            "Mean Squared Error = 562.5688774068515\n",
            "Root Mean Squared Error(rmse) = 23.71853447004792. The predicted dielectric constant is the actual dielectric constant +/- rmse\n"
          ]
        },
        {
          "data": {
            "image/png": "[encoded data removed]",
            "text/plain": [
              "<Figure size 432x288 with 1 Axes>"
            ]
          },
          "metadata": {},
          "output_type": "display_data"
        }
      ],
      "source": [
        "# Basic Regression Model\n",
        "\n",
        "regress = model(67, 300, steps=STEP)\n",
        "regress.super_fit_predict(1, x_train, y_train, x_valid, y_valid, x_test, y_test, regression=True)"
      ]
    },
    {
      "cell_type": "code",
      "execution_count": null,
      "metadata": {
        "colab": {
          "base_uri": "https://localhost:8080/",
          "height": 299
        },
        "id": "YSHZV9W8ATY3",
        "outputId": "058a70f6-a3ff-4d2d-bc34-1394ec9cc19a"
      },
      "outputs": [
        {
          "name": "stdout",
          "output_type": "stream",
          "text": [
            "Mean Squared Error = 3.547336803448263e-05\n",
            "Root Mean Squared Error(rmse) = 0.0059559523196952. The predicted dielectric constant is the actual dielectric constant +/- rmse\n"
          ]
        },
        {
          "data": {
            "image/png": "[encoded data removed]",
            "text/plain": [
              "<Figure size 432x288 with 1 Axes>"
            ]
          },
          "metadata": {},
          "output_type": "display_data"
        }
      ],
      "source": [
        "# Tuned Classification Model\n",
        "\n",
        "# This takes very long to run\n",
        "BSEST_n, BEST_filter = tune_model(x_train, y_train, x_valid, y_valid, x_tune, y_tune)\n",
        "tuned = model(67, 300, steps=STEP, number_of_layers=BSEST_n, filter=BEST_filter)\n",
        "tuned.fit_model(x_train, y_train, x_valid, y_valid)\n",
        "tuned.predict(x_test, y_test, plot=True)"
      ]
    },
    {
      "cell_type": "code",
      "execution_count": null,
      "metadata": {
        "colab": {
          "base_uri": "https://localhost:8080/",
          "height": 299
        },
        "id": "V8gvElAyAu6I",
        "outputId": "b8c80f4c-6fbc-43ff-e7d1-68dab23d35a4"
      },
      "outputs": [
        {
          "name": "stdout",
          "output_type": "stream",
          "text": [
            "Mean Squared Error = 3.344741513479649e-05\n",
            "Root Mean Squared Error(rmse) = 0.0057833740268805455. The predicted dielectric constant is the actual dielectric constant +/- rmse\n"
          ]
        },
        {
          "data": {
            "image/png": "[encoded data removed]",
            "text/plain": [
              "<Figure size 432x288 with 1 Axes>"
            ]
          },
          "metadata": {},
          "output_type": "display_data"
        }
      ],
      "source": [
        "# Super Tuned Classification Model\n",
        "\n",
        "modelx = model(67, 300, steps=STEP, number_of_layers=BSEST_n, filter=BEST_filter)\n",
        "modelx.super_fit_predict(24, x_train, y_train, x_valid, y_valid, x_test, y_test)"
      ]
    }
  ],
  "metadata": {
    "colab": {
      "collapsed_sections": [
        "HerlBKVCrqBP",
        "aAKCydv5_9cN",
        "ztttrXfyEEg9",
        "xxrajsdRC_AK"
      ],
      "name": "ML_ Final3.ipynb",
      "provenance": []
    },
    "kernelspec": {
      "display_name": "Python 3",
      "name": "python3"
    },
    "language_info": {
      "name": "python"
    },
    "widgets": {
      "application/vnd.jupyter.widget-state+json": {
        "010854817fc34348a172f94a85f2ed53": {
          "model_module": "@jupyter-widgets/controls",
          "model_module_version": "1.5.0",
          "model_name": "DescriptionStyleModel",
          "state": {
            "_model_module": "@jupyter-widgets/controls",
            "_model_module_version": "1.5.0",
            "_model_name": "DescriptionStyleModel",
            "_view_count": null,
            "_view_module": "@jupyter-widgets/base",
            "_view_module_version": "1.2.0",
            "_view_name": "StyleView",
            "description_width": ""
          }
        },
        "105eebd8ba1b40caa88fdf31c1584d8d": {
          "model_module": "@jupyter-widgets/controls",
          "model_module_version": "1.5.0",
          "model_name": "HTMLModel",
          "state": {
            "_dom_classes": [],
            "_model_module": "@jupyter-widgets/controls",
            "_model_module_version": "1.5.0",
            "_model_name": "HTMLModel",
            "_view_count": null,
            "_view_module": "@jupyter-widgets/controls",
            "_view_module_version": "1.5.0",
            "_view_name": "HTMLView",
            "description": "",
            "description_tooltip": null,
            "layout": "IPY_MODEL_9580790b3b764c4ca19e25639154074e",
            "placeholder": "​",
            "style": "IPY_MODEL_67b7975c403a4683af2aa59eb1ac88ab",
            "value": " 1056/1056 [00:02&lt;00:00, 498.66it/s]"
          }
        },
        "15d1e648820642c4b09b3f77c566dbdd": {
          "model_module": "@jupyter-widgets/base",
          "model_module_version": "1.2.0",
          "model_name": "LayoutModel",
          "state": {
            "_model_module": "@jupyter-widgets/base",
            "_model_module_version": "1.2.0",
            "_model_name": "LayoutModel",
            "_view_count": null,
            "_view_module": "@jupyter-widgets/base",
            "_view_module_version": "1.2.0",
            "_view_name": "LayoutView",
            "align_content": null,
            "align_items": null,
            "align_self": null,
            "border": null,
            "bottom": null,
            "display": null,
            "flex": null,
            "flex_flow": null,
            "grid_area": null,
            "grid_auto_columns": null,
            "grid_auto_flow": null,
            "grid_auto_rows": null,
            "grid_column": null,
            "grid_gap": null,
            "grid_row": null,
            "grid_template_areas": null,
            "grid_template_columns": null,
            "grid_template_rows": null,
            "height": null,
            "justify_content": null,
            "justify_items": null,
            "left": null,
            "margin": null,
            "max_height": null,
            "max_width": null,
            "min_height": null,
            "min_width": null,
            "object_fit": null,
            "object_position": null,
            "order": null,
            "overflow": null,
            "overflow_x": null,
            "overflow_y": null,
            "padding": null,
            "right": null,
            "top": null,
            "visibility": null,
            "width": null
          }
        },
        "1a3760427c5c45e1bdbd7a686c854cce": {
          "model_module": "@jupyter-widgets/controls",
          "model_module_version": "1.5.0",
          "model_name": "HBoxModel",
          "state": {
            "_dom_classes": [],
            "_model_module": "@jupyter-widgets/controls",
            "_model_module_version": "1.5.0",
            "_model_name": "HBoxModel",
            "_view_count": null,
            "_view_module": "@jupyter-widgets/controls",
            "_view_module_version": "1.5.0",
            "_view_name": "HBoxView",
            "box_style": "",
            "children": [
              "IPY_MODEL_2d3d11bdc9004e3ea29b6e743d41ccf4",
              "IPY_MODEL_3ff1b5ab68e54039a186832e5d017d96",
              "IPY_MODEL_acccf66a8d9f48768e14998928305e4e"
            ],
            "layout": "IPY_MODEL_1c20593b5db74941a9047291868de35a"
          }
        },
        "1c20593b5db74941a9047291868de35a": {
          "model_module": "@jupyter-widgets/base",
          "model_module_version": "1.2.0",
          "model_name": "LayoutModel",
          "state": {
            "_model_module": "@jupyter-widgets/base",
            "_model_module_version": "1.2.0",
            "_model_name": "LayoutModel",
            "_view_count": null,
            "_view_module": "@jupyter-widgets/base",
            "_view_module_version": "1.2.0",
            "_view_name": "LayoutView",
            "align_content": null,
            "align_items": null,
            "align_self": null,
            "border": null,
            "bottom": null,
            "display": null,
            "flex": null,
            "flex_flow": null,
            "grid_area": null,
            "grid_auto_columns": null,
            "grid_auto_flow": null,
            "grid_auto_rows": null,
            "grid_column": null,
            "grid_gap": null,
            "grid_row": null,
            "grid_template_areas": null,
            "grid_template_columns": null,
            "grid_template_rows": null,
            "height": null,
            "justify_content": null,
            "justify_items": null,
            "left": null,
            "margin": null,
            "max_height": null,
            "max_width": null,
            "min_height": null,
            "min_width": null,
            "object_fit": null,
            "object_position": null,
            "order": null,
            "overflow": null,
            "overflow_x": null,
            "overflow_y": null,
            "padding": null,
            "right": null,
            "top": null,
            "visibility": null,
            "width": null
          }
        },
        "2d3d11bdc9004e3ea29b6e743d41ccf4": {
          "model_module": "@jupyter-widgets/controls",
          "model_module_version": "1.5.0",
          "model_name": "HTMLModel",
          "state": {
            "_dom_classes": [],
            "_model_module": "@jupyter-widgets/controls",
            "_model_module_version": "1.5.0",
            "_model_name": "HTMLModel",
            "_view_count": null,
            "_view_module": "@jupyter-widgets/controls",
            "_view_module_version": "1.5.0",
            "_view_name": "HTMLView",
            "description": "",
            "description_tooltip": null,
            "layout": "IPY_MODEL_63258204473e43fdb41e65ae0e8c2fbe",
            "placeholder": "​",
            "style": "IPY_MODEL_e1afd56010204f4b90d5d6143ef32205",
            "value": "StrToComposition: 100%"
          }
        },
        "3ff1b5ab68e54039a186832e5d017d96": {
          "model_module": "@jupyter-widgets/controls",
          "model_module_version": "1.5.0",
          "model_name": "FloatProgressModel",
          "state": {
            "_dom_classes": [],
            "_model_module": "@jupyter-widgets/controls",
            "_model_module_version": "1.5.0",
            "_model_name": "FloatProgressModel",
            "_view_count": null,
            "_view_module": "@jupyter-widgets/controls",
            "_view_module_version": "1.5.0",
            "_view_name": "ProgressView",
            "bar_style": "success",
            "description": "",
            "description_tooltip": null,
            "layout": "IPY_MODEL_bcfc935597ac440d8ab9983cbf7638be",
            "max": 1056,
            "min": 0,
            "orientation": "horizontal",
            "style": "IPY_MODEL_947d7398347b4997adb433500f4d098b",
            "value": 1056
          }
        },
        "55992cb2c2c24817b6845fb24302814c": {
          "model_module": "@jupyter-widgets/base",
          "model_module_version": "1.2.0",
          "model_name": "LayoutModel",
          "state": {
            "_model_module": "@jupyter-widgets/base",
            "_model_module_version": "1.2.0",
            "_model_name": "LayoutModel",
            "_view_count": null,
            "_view_module": "@jupyter-widgets/base",
            "_view_module_version": "1.2.0",
            "_view_name": "LayoutView",
            "align_content": null,
            "align_items": null,
            "align_self": null,
            "border": null,
            "bottom": null,
            "display": null,
            "flex": null,
            "flex_flow": null,
            "grid_area": null,
            "grid_auto_columns": null,
            "grid_auto_flow": null,
            "grid_auto_rows": null,
            "grid_column": null,
            "grid_gap": null,
            "grid_row": null,
            "grid_template_areas": null,
            "grid_template_columns": null,
            "grid_template_rows": null,
            "height": null,
            "justify_content": null,
            "justify_items": null,
            "left": null,
            "margin": null,
            "max_height": null,
            "max_width": null,
            "min_height": null,
            "min_width": null,
            "object_fit": null,
            "object_position": null,
            "order": null,
            "overflow": null,
            "overflow_x": null,
            "overflow_y": null,
            "padding": null,
            "right": null,
            "top": null,
            "visibility": null,
            "width": null
          }
        },
        "5c13ad0dff594bb0826a6ea7f67b3842": {
          "model_module": "@jupyter-widgets/controls",
          "model_module_version": "1.5.0",
          "model_name": "HBoxModel",
          "state": {
            "_dom_classes": [],
            "_model_module": "@jupyter-widgets/controls",
            "_model_module_version": "1.5.0",
            "_model_name": "HBoxModel",
            "_view_count": null,
            "_view_module": "@jupyter-widgets/controls",
            "_view_module_version": "1.5.0",
            "_view_name": "HBoxView",
            "box_style": "",
            "children": [
              "IPY_MODEL_a8ccebf11eaa482e8888930afd333778",
              "IPY_MODEL_e8f0e3d8e0e3499eb2f5098071d08ffa",
              "IPY_MODEL_105eebd8ba1b40caa88fdf31c1584d8d"
            ],
            "layout": "IPY_MODEL_95e80433aa7949dc8cec59f5e4b9d210"
          }
        },
        "5ece659d1af444ddaa87e1c5c35092b9": {
          "model_module": "@jupyter-widgets/base",
          "model_module_version": "1.2.0",
          "model_name": "LayoutModel",
          "state": {
            "_model_module": "@jupyter-widgets/base",
            "_model_module_version": "1.2.0",
            "_model_name": "LayoutModel",
            "_view_count": null,
            "_view_module": "@jupyter-widgets/base",
            "_view_module_version": "1.2.0",
            "_view_name": "LayoutView",
            "align_content": null,
            "align_items": null,
            "align_self": null,
            "border": null,
            "bottom": null,
            "display": null,
            "flex": null,
            "flex_flow": null,
            "grid_area": null,
            "grid_auto_columns": null,
            "grid_auto_flow": null,
            "grid_auto_rows": null,
            "grid_column": null,
            "grid_gap": null,
            "grid_row": null,
            "grid_template_areas": null,
            "grid_template_columns": null,
            "grid_template_rows": null,
            "height": null,
            "justify_content": null,
            "justify_items": null,
            "left": null,
            "margin": null,
            "max_height": null,
            "max_width": null,
            "min_height": null,
            "min_width": null,
            "object_fit": null,
            "object_position": null,
            "order": null,
            "overflow": null,
            "overflow_x": null,
            "overflow_y": null,
            "padding": null,
            "right": null,
            "top": null,
            "visibility": null,
            "width": null
          }
        },
        "63258204473e43fdb41e65ae0e8c2fbe": {
          "model_module": "@jupyter-widgets/base",
          "model_module_version": "1.2.0",
          "model_name": "LayoutModel",
          "state": {
            "_model_module": "@jupyter-widgets/base",
            "_model_module_version": "1.2.0",
            "_model_name": "LayoutModel",
            "_view_count": null,
            "_view_module": "@jupyter-widgets/base",
            "_view_module_version": "1.2.0",
            "_view_name": "LayoutView",
            "align_content": null,
            "align_items": null,
            "align_self": null,
            "border": null,
            "bottom": null,
            "display": null,
            "flex": null,
            "flex_flow": null,
            "grid_area": null,
            "grid_auto_columns": null,
            "grid_auto_flow": null,
            "grid_auto_rows": null,
            "grid_column": null,
            "grid_gap": null,
            "grid_row": null,
            "grid_template_areas": null,
            "grid_template_columns": null,
            "grid_template_rows": null,
            "height": null,
            "justify_content": null,
            "justify_items": null,
            "left": null,
            "margin": null,
            "max_height": null,
            "max_width": null,
            "min_height": null,
            "min_width": null,
            "object_fit": null,
            "object_position": null,
            "order": null,
            "overflow": null,
            "overflow_x": null,
            "overflow_y": null,
            "padding": null,
            "right": null,
            "top": null,
            "visibility": null,
            "width": null
          }
        },
        "67b7975c403a4683af2aa59eb1ac88ab": {
          "model_module": "@jupyter-widgets/controls",
          "model_module_version": "1.5.0",
          "model_name": "DescriptionStyleModel",
          "state": {
            "_model_module": "@jupyter-widgets/controls",
            "_model_module_version": "1.5.0",
            "_model_name": "DescriptionStyleModel",
            "_view_count": null,
            "_view_module": "@jupyter-widgets/base",
            "_view_module_version": "1.2.0",
            "_view_name": "StyleView",
            "description_width": ""
          }
        },
        "7b51a2ec8b5a4ac19e53cbd867d6cca2": {
          "model_module": "@jupyter-widgets/controls",
          "model_module_version": "1.5.0",
          "model_name": "ProgressStyleModel",
          "state": {
            "_model_module": "@jupyter-widgets/controls",
            "_model_module_version": "1.5.0",
            "_model_name": "ProgressStyleModel",
            "_view_count": null,
            "_view_module": "@jupyter-widgets/base",
            "_view_module_version": "1.2.0",
            "_view_name": "StyleView",
            "bar_color": null,
            "description_width": ""
          }
        },
        "7d6f24a1e3b04a8596c9be2853874857": {
          "model_module": "@jupyter-widgets/base",
          "model_module_version": "1.2.0",
          "model_name": "LayoutModel",
          "state": {
            "_model_module": "@jupyter-widgets/base",
            "_model_module_version": "1.2.0",
            "_model_name": "LayoutModel",
            "_view_count": null,
            "_view_module": "@jupyter-widgets/base",
            "_view_module_version": "1.2.0",
            "_view_name": "LayoutView",
            "align_content": null,
            "align_items": null,
            "align_self": null,
            "border": null,
            "bottom": null,
            "display": null,
            "flex": null,
            "flex_flow": null,
            "grid_area": null,
            "grid_auto_columns": null,
            "grid_auto_flow": null,
            "grid_auto_rows": null,
            "grid_column": null,
            "grid_gap": null,
            "grid_row": null,
            "grid_template_areas": null,
            "grid_template_columns": null,
            "grid_template_rows": null,
            "height": null,
            "justify_content": null,
            "justify_items": null,
            "left": null,
            "margin": null,
            "max_height": null,
            "max_width": null,
            "min_height": null,
            "min_width": null,
            "object_fit": null,
            "object_position": null,
            "order": null,
            "overflow": null,
            "overflow_x": null,
            "overflow_y": null,
            "padding": null,
            "right": null,
            "top": null,
            "visibility": null,
            "width": null
          }
        },
        "8ae81740a4ec4151a8a88c61f4ced78b": {
          "model_module": "@jupyter-widgets/base",
          "model_module_version": "1.2.0",
          "model_name": "LayoutModel",
          "state": {
            "_model_module": "@jupyter-widgets/base",
            "_model_module_version": "1.2.0",
            "_model_name": "LayoutModel",
            "_view_count": null,
            "_view_module": "@jupyter-widgets/base",
            "_view_module_version": "1.2.0",
            "_view_name": "LayoutView",
            "align_content": null,
            "align_items": null,
            "align_self": null,
            "border": null,
            "bottom": null,
            "display": null,
            "flex": null,
            "flex_flow": null,
            "grid_area": null,
            "grid_auto_columns": null,
            "grid_auto_flow": null,
            "grid_auto_rows": null,
            "grid_column": null,
            "grid_gap": null,
            "grid_row": null,
            "grid_template_areas": null,
            "grid_template_columns": null,
            "grid_template_rows": null,
            "height": null,
            "justify_content": null,
            "justify_items": null,
            "left": null,
            "margin": null,
            "max_height": null,
            "max_width": null,
            "min_height": null,
            "min_width": null,
            "object_fit": null,
            "object_position": null,
            "order": null,
            "overflow": null,
            "overflow_x": null,
            "overflow_y": null,
            "padding": null,
            "right": null,
            "top": null,
            "visibility": null,
            "width": null
          }
        },
        "947d7398347b4997adb433500f4d098b": {
          "model_module": "@jupyter-widgets/controls",
          "model_module_version": "1.5.0",
          "model_name": "ProgressStyleModel",
          "state": {
            "_model_module": "@jupyter-widgets/controls",
            "_model_module_version": "1.5.0",
            "_model_name": "ProgressStyleModel",
            "_view_count": null,
            "_view_module": "@jupyter-widgets/base",
            "_view_module_version": "1.2.0",
            "_view_name": "StyleView",
            "bar_color": null,
            "description_width": ""
          }
        },
        "9580790b3b764c4ca19e25639154074e": {
          "model_module": "@jupyter-widgets/base",
          "model_module_version": "1.2.0",
          "model_name": "LayoutModel",
          "state": {
            "_model_module": "@jupyter-widgets/base",
            "_model_module_version": "1.2.0",
            "_model_name": "LayoutModel",
            "_view_count": null,
            "_view_module": "@jupyter-widgets/base",
            "_view_module_version": "1.2.0",
            "_view_name": "LayoutView",
            "align_content": null,
            "align_items": null,
            "align_self": null,
            "border": null,
            "bottom": null,
            "display": null,
            "flex": null,
            "flex_flow": null,
            "grid_area": null,
            "grid_auto_columns": null,
            "grid_auto_flow": null,
            "grid_auto_rows": null,
            "grid_column": null,
            "grid_gap": null,
            "grid_row": null,
            "grid_template_areas": null,
            "grid_template_columns": null,
            "grid_template_rows": null,
            "height": null,
            "justify_content": null,
            "justify_items": null,
            "left": null,
            "margin": null,
            "max_height": null,
            "max_width": null,
            "min_height": null,
            "min_width": null,
            "object_fit": null,
            "object_position": null,
            "order": null,
            "overflow": null,
            "overflow_x": null,
            "overflow_y": null,
            "padding": null,
            "right": null,
            "top": null,
            "visibility": null,
            "width": null
          }
        },
        "95e80433aa7949dc8cec59f5e4b9d210": {
          "model_module": "@jupyter-widgets/base",
          "model_module_version": "1.2.0",
          "model_name": "LayoutModel",
          "state": {
            "_model_module": "@jupyter-widgets/base",
            "_model_module_version": "1.2.0",
            "_model_name": "LayoutModel",
            "_view_count": null,
            "_view_module": "@jupyter-widgets/base",
            "_view_module_version": "1.2.0",
            "_view_name": "LayoutView",
            "align_content": null,
            "align_items": null,
            "align_self": null,
            "border": null,
            "bottom": null,
            "display": null,
            "flex": null,
            "flex_flow": null,
            "grid_area": null,
            "grid_auto_columns": null,
            "grid_auto_flow": null,
            "grid_auto_rows": null,
            "grid_column": null,
            "grid_gap": null,
            "grid_row": null,
            "grid_template_areas": null,
            "grid_template_columns": null,
            "grid_template_rows": null,
            "height": null,
            "justify_content": null,
            "justify_items": null,
            "left": null,
            "margin": null,
            "max_height": null,
            "max_width": null,
            "min_height": null,
            "min_width": null,
            "object_fit": null,
            "object_position": null,
            "order": null,
            "overflow": null,
            "overflow_x": null,
            "overflow_y": null,
            "padding": null,
            "right": null,
            "top": null,
            "visibility": null,
            "width": null
          }
        },
        "96dc6bbce0c94616ad0eb9855aa39bdb": {
          "model_module": "@jupyter-widgets/controls",
          "model_module_version": "1.5.0",
          "model_name": "HTMLModel",
          "state": {
            "_dom_classes": [],
            "_model_module": "@jupyter-widgets/controls",
            "_model_module_version": "1.5.0",
            "_model_name": "HTMLModel",
            "_view_count": null,
            "_view_module": "@jupyter-widgets/controls",
            "_view_module_version": "1.5.0",
            "_view_name": "HTMLView",
            "description": "",
            "description_tooltip": null,
            "layout": "IPY_MODEL_8ae81740a4ec4151a8a88c61f4ced78b",
            "placeholder": "​",
            "style": "IPY_MODEL_cff422039e18434986b27f5829e75b0f",
            "value": "ElementFraction: 100%"
          }
        },
        "a8ccebf11eaa482e8888930afd333778": {
          "model_module": "@jupyter-widgets/controls",
          "model_module_version": "1.5.0",
          "model_name": "HTMLModel",
          "state": {
            "_dom_classes": [],
            "_model_module": "@jupyter-widgets/controls",
            "_model_module_version": "1.5.0",
            "_model_name": "HTMLModel",
            "_view_count": null,
            "_view_module": "@jupyter-widgets/controls",
            "_view_module_version": "1.5.0",
            "_view_name": "HTMLView",
            "description": "",
            "description_tooltip": null,
            "layout": "IPY_MODEL_eed1541469bf4f828506e4d598bf05a4",
            "placeholder": "​",
            "style": "IPY_MODEL_a9839577cb184f2584eb960ff98982ea",
            "value": "DensityFeatures: 100%"
          }
        },
        "a9839577cb184f2584eb960ff98982ea": {
          "model_module": "@jupyter-widgets/controls",
          "model_module_version": "1.5.0",
          "model_name": "DescriptionStyleModel",
          "state": {
            "_model_module": "@jupyter-widgets/controls",
            "_model_module_version": "1.5.0",
            "_model_name": "DescriptionStyleModel",
            "_view_count": null,
            "_view_module": "@jupyter-widgets/base",
            "_view_module_version": "1.2.0",
            "_view_name": "StyleView",
            "description_width": ""
          }
        },
        "acccf66a8d9f48768e14998928305e4e": {
          "model_module": "@jupyter-widgets/controls",
          "model_module_version": "1.5.0",
          "model_name": "HTMLModel",
          "state": {
            "_dom_classes": [],
            "_model_module": "@jupyter-widgets/controls",
            "_model_module_version": "1.5.0",
            "_model_name": "HTMLModel",
            "_view_count": null,
            "_view_module": "@jupyter-widgets/controls",
            "_view_module_version": "1.5.0",
            "_view_name": "HTMLView",
            "description": "",
            "description_tooltip": null,
            "layout": "IPY_MODEL_7d6f24a1e3b04a8596c9be2853874857",
            "placeholder": "​",
            "style": "IPY_MODEL_b6f12863050749cca26a41e5278fc18e",
            "value": " 1056/1056 [00:00&lt;00:00, 11024.02it/s]"
          }
        },
        "b6f12863050749cca26a41e5278fc18e": {
          "model_module": "@jupyter-widgets/controls",
          "model_module_version": "1.5.0",
          "model_name": "DescriptionStyleModel",
          "state": {
            "_model_module": "@jupyter-widgets/controls",
            "_model_module_version": "1.5.0",
            "_model_name": "DescriptionStyleModel",
            "_view_count": null,
            "_view_module": "@jupyter-widgets/base",
            "_view_module_version": "1.2.0",
            "_view_name": "StyleView",
            "description_width": ""
          }
        },
        "bc493280eae342078a03884256dcf691": {
          "model_module": "@jupyter-widgets/controls",
          "model_module_version": "1.5.0",
          "model_name": "FloatProgressModel",
          "state": {
            "_dom_classes": [],
            "_model_module": "@jupyter-widgets/controls",
            "_model_module_version": "1.5.0",
            "_model_name": "FloatProgressModel",
            "_view_count": null,
            "_view_module": "@jupyter-widgets/controls",
            "_view_module_version": "1.5.0",
            "_view_name": "ProgressView",
            "bar_style": "success",
            "description": "",
            "description_tooltip": null,
            "layout": "IPY_MODEL_15d1e648820642c4b09b3f77c566dbdd",
            "max": 1056,
            "min": 0,
            "orientation": "horizontal",
            "style": "IPY_MODEL_cfe60bfc21b74306bee5c3e3b6ed2182",
            "value": 1056
          }
        },
        "bcfc935597ac440d8ab9983cbf7638be": {
          "model_module": "@jupyter-widgets/base",
          "model_module_version": "1.2.0",
          "model_name": "LayoutModel",
          "state": {
            "_model_module": "@jupyter-widgets/base",
            "_model_module_version": "1.2.0",
            "_model_name": "LayoutModel",
            "_view_count": null,
            "_view_module": "@jupyter-widgets/base",
            "_view_module_version": "1.2.0",
            "_view_name": "LayoutView",
            "align_content": null,
            "align_items": null,
            "align_self": null,
            "border": null,
            "bottom": null,
            "display": null,
            "flex": null,
            "flex_flow": null,
            "grid_area": null,
            "grid_auto_columns": null,
            "grid_auto_flow": null,
            "grid_auto_rows": null,
            "grid_column": null,
            "grid_gap": null,
            "grid_row": null,
            "grid_template_areas": null,
            "grid_template_columns": null,
            "grid_template_rows": null,
            "height": null,
            "justify_content": null,
            "justify_items": null,
            "left": null,
            "margin": null,
            "max_height": null,
            "max_width": null,
            "min_height": null,
            "min_width": null,
            "object_fit": null,
            "object_position": null,
            "order": null,
            "overflow": null,
            "overflow_x": null,
            "overflow_y": null,
            "padding": null,
            "right": null,
            "top": null,
            "visibility": null,
            "width": null
          }
        },
        "cfe60bfc21b74306bee5c3e3b6ed2182": {
          "model_module": "@jupyter-widgets/controls",
          "model_module_version": "1.5.0",
          "model_name": "ProgressStyleModel",
          "state": {
            "_model_module": "@jupyter-widgets/controls",
            "_model_module_version": "1.5.0",
            "_model_name": "ProgressStyleModel",
            "_view_count": null,
            "_view_module": "@jupyter-widgets/base",
            "_view_module_version": "1.2.0",
            "_view_name": "StyleView",
            "bar_color": null,
            "description_width": ""
          }
        },
        "cff422039e18434986b27f5829e75b0f": {
          "model_module": "@jupyter-widgets/controls",
          "model_module_version": "1.5.0",
          "model_name": "DescriptionStyleModel",
          "state": {
            "_model_module": "@jupyter-widgets/controls",
            "_model_module_version": "1.5.0",
            "_model_name": "DescriptionStyleModel",
            "_view_count": null,
            "_view_module": "@jupyter-widgets/base",
            "_view_module_version": "1.2.0",
            "_view_name": "StyleView",
            "description_width": ""
          }
        },
        "d67dd98bae5c481884518ddae2db2b63": {
          "model_module": "@jupyter-widgets/controls",
          "model_module_version": "1.5.0",
          "model_name": "HBoxModel",
          "state": {
            "_dom_classes": [],
            "_model_module": "@jupyter-widgets/controls",
            "_model_module_version": "1.5.0",
            "_model_name": "HBoxModel",
            "_view_count": null,
            "_view_module": "@jupyter-widgets/controls",
            "_view_module_version": "1.5.0",
            "_view_name": "HBoxView",
            "box_style": "",
            "children": [
              "IPY_MODEL_96dc6bbce0c94616ad0eb9855aa39bdb",
              "IPY_MODEL_bc493280eae342078a03884256dcf691",
              "IPY_MODEL_e55c16f678074606914b5fb3a6c578d1"
            ],
            "layout": "IPY_MODEL_5ece659d1af444ddaa87e1c5c35092b9"
          }
        },
        "e1afd56010204f4b90d5d6143ef32205": {
          "model_module": "@jupyter-widgets/controls",
          "model_module_version": "1.5.0",
          "model_name": "DescriptionStyleModel",
          "state": {
            "_model_module": "@jupyter-widgets/controls",
            "_model_module_version": "1.5.0",
            "_model_name": "DescriptionStyleModel",
            "_view_count": null,
            "_view_module": "@jupyter-widgets/base",
            "_view_module_version": "1.2.0",
            "_view_name": "StyleView",
            "description_width": ""
          }
        },
        "e2f7fcf84606459fbbe8027a4bde8795": {
          "model_module": "@jupyter-widgets/base",
          "model_module_version": "1.2.0",
          "model_name": "LayoutModel",
          "state": {
            "_model_module": "@jupyter-widgets/base",
            "_model_module_version": "1.2.0",
            "_model_name": "LayoutModel",
            "_view_count": null,
            "_view_module": "@jupyter-widgets/base",
            "_view_module_version": "1.2.0",
            "_view_name": "LayoutView",
            "align_content": null,
            "align_items": null,
            "align_self": null,
            "border": null,
            "bottom": null,
            "display": null,
            "flex": null,
            "flex_flow": null,
            "grid_area": null,
            "grid_auto_columns": null,
            "grid_auto_flow": null,
            "grid_auto_rows": null,
            "grid_column": null,
            "grid_gap": null,
            "grid_row": null,
            "grid_template_areas": null,
            "grid_template_columns": null,
            "grid_template_rows": null,
            "height": null,
            "justify_content": null,
            "justify_items": null,
            "left": null,
            "margin": null,
            "max_height": null,
            "max_width": null,
            "min_height": null,
            "min_width": null,
            "object_fit": null,
            "object_position": null,
            "order": null,
            "overflow": null,
            "overflow_x": null,
            "overflow_y": null,
            "padding": null,
            "right": null,
            "top": null,
            "visibility": null,
            "width": null
          }
        },
        "e55c16f678074606914b5fb3a6c578d1": {
          "model_module": "@jupyter-widgets/controls",
          "model_module_version": "1.5.0",
          "model_name": "HTMLModel",
          "state": {
            "_dom_classes": [],
            "_model_module": "@jupyter-widgets/controls",
            "_model_module_version": "1.5.0",
            "_model_name": "HTMLModel",
            "_view_count": null,
            "_view_module": "@jupyter-widgets/controls",
            "_view_module_version": "1.5.0",
            "_view_name": "HTMLView",
            "description": "",
            "description_tooltip": null,
            "layout": "IPY_MODEL_55992cb2c2c24817b6845fb24302814c",
            "placeholder": "​",
            "style": "IPY_MODEL_010854817fc34348a172f94a85f2ed53",
            "value": " 1056/1056 [00:00&lt;00:00,  9.72it/s]"
          }
        },
        "e8f0e3d8e0e3499eb2f5098071d08ffa": {
          "model_module": "@jupyter-widgets/controls",
          "model_module_version": "1.5.0",
          "model_name": "FloatProgressModel",
          "state": {
            "_dom_classes": [],
            "_model_module": "@jupyter-widgets/controls",
            "_model_module_version": "1.5.0",
            "_model_name": "FloatProgressModel",
            "_view_count": null,
            "_view_module": "@jupyter-widgets/controls",
            "_view_module_version": "1.5.0",
            "_view_name": "ProgressView",
            "bar_style": "success",
            "description": "",
            "description_tooltip": null,
            "layout": "IPY_MODEL_e2f7fcf84606459fbbe8027a4bde8795",
            "max": 1056,
            "min": 0,
            "orientation": "horizontal",
            "style": "IPY_MODEL_7b51a2ec8b5a4ac19e53cbd867d6cca2",
            "value": 1056
          }
        },
        "eed1541469bf4f828506e4d598bf05a4": {
          "model_module": "@jupyter-widgets/base",
          "model_module_version": "1.2.0",
          "model_name": "LayoutModel",
          "state": {
            "_model_module": "@jupyter-widgets/base",
            "_model_module_version": "1.2.0",
            "_model_name": "LayoutModel",
            "_view_count": null,
            "_view_module": "@jupyter-widgets/base",
            "_view_module_version": "1.2.0",
            "_view_name": "LayoutView",
            "align_content": null,
            "align_items": null,
            "align_self": null,
            "border": null,
            "bottom": null,
            "display": null,
            "flex": null,
            "flex_flow": null,
            "grid_area": null,
            "grid_auto_columns": null,
            "grid_auto_flow": null,
            "grid_auto_rows": null,
            "grid_column": null,
            "grid_gap": null,
            "grid_row": null,
            "grid_template_areas": null,
            "grid_template_columns": null,
            "grid_template_rows": null,
            "height": null,
            "justify_content": null,
            "justify_items": null,
            "left": null,
            "margin": null,
            "max_height": null,
            "max_width": null,
            "min_height": null,
            "min_width": null,
            "object_fit": null,
            "object_position": null,
            "order": null,
            "overflow": null,
            "overflow_x": null,
            "overflow_y": null,
            "padding": null,
            "right": null,
            "top": null,
            "visibility": null,
            "width": null
          }
        }
      }
    }
  },
  "nbformat": 4,
  "nbformat_minor": 0
}
